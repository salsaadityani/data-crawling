{
  "nbformat": 4,
  "nbformat_minor": 0,
  "metadata": {
    "colab": {
      "provenance": [],
      "include_colab_link": true
    },
    "kernelspec": {
      "name": "python3",
      "display_name": "Python 3"
    },
    "language_info": {
      "name": "python"
    }
  },
  "cells": [
    {
      "cell_type": "markdown",
      "metadata": {
        "id": "view-in-github",
        "colab_type": "text"
      },
      "source": [
        "<a href=\"https://colab.research.google.com/github/salsaadityani/data-crawling/blob/main/twitter_crawling.ipynb\" target=\"_parent\"><img src=\"https://colab.research.google.com/assets/colab-badge.svg\" alt=\"Open In Colab\"/></a>"
      ]
    },
    {
      "cell_type": "code",
      "metadata": {
        "id": "y5kk07orfJYK"
      },
      "source": [
        "import tweepy"
      ],
      "execution_count": null,
      "outputs": []
    },
    {
      "cell_type": "code",
      "metadata": {
        "id": "sHJS7mfPfW16"
      },
      "source": [
        "apikey = \"x\"\n",
        "apisecret = \"x\"\n",
        "accesstoken = \"x\"\n",
        "tokensecret = \"x\"\n",
        "\n",
        "auth = tweepy.OAuthHandler(apikey, apisecret)\n",
        "auth.set_access_token(accesstoken, tokensecret)\n",
        "api = tweepy.API(auth)"
      ],
      "execution_count": null,
      "outputs": []
    },
    {
      "cell_type": "code",
      "metadata": {
        "id": "DJmYpcqKgqWY",
        "colab": {
          "base_uri": "https://localhost:8080/"
        },
        "outputId": "b867be02-7850-49c3-afae-bc84904ab37e"
      },
      "source": [
        "# Build a crawler that collects a user's profile information from Twitter given the user's Twitter ID\n",
        "\n",
        "pengguna = \"kaji__official\"\n",
        "print(\"Username                 : \"+pengguna)\n",
        "\n",
        "user = api.get_user(pengguna)\n",
        "\n",
        "id = user.id_str\n",
        "print(\"ID User                  : \"+id)\n",
        "\n",
        "created_at = user.created_at\n",
        "print(\"Joined                   : \"+str(created_at))\n",
        "\n",
        "description = user.description\n",
        "print(\"Bio                      : \"+description)\n",
        "\n",
        "statuses_count = user.statuses_count\n",
        "print(\"Number of Posted Tweets  : \"+str(statuses_count))\n",
        "\n",
        "favourites_count = user.favourites_count\n",
        "print(\"Number of Liked Tweets   : \"+str(favourites_count))\n",
        "\n",
        "followers_count = user.followers_count\n",
        "print(\"Number of Followers      : \"+str(followers_count))\n",
        "\n",
        "friends_count = user.friends_count\n",
        "print(\"Number of Following      : \"+str(friends_count))"
      ],
      "execution_count": null,
      "outputs": [
        {
          "output_type": "stream",
          "name": "stdout",
          "text": [
            "Username                 : kaji__official\n",
            "ID User                  : 2380691000\n",
            "Joined                   : 2014-03-09 16:21:12\n",
            "Bio                      : 声優。voice actor.【Instagram】https://t.co/MrCxq8skg6【梶裕貴 OFFICIAL CHANNEL】https://t.co/Cbjl3gdiQX\n",
            "Number of Posted Tweets  : 10417\n",
            "Number of Liked Tweets   : 0\n",
            "Number of Followers      : 781406\n",
            "Number of Following      : 0\n"
          ]
        }
      ]
    },
    {
      "cell_type": "code",
      "metadata": {
        "id": "_JkCS_bVnmGu",
        "colab": {
          "base_uri": "https://localhost:8080/"
        },
        "outputId": "16756e91-deb3-4b22-867e-ed1f1b9e630c"
      },
      "source": [
        "# Build a crawler that collects a user's social network information given the user's ID\n",
        "\n",
        "print(\"Followers of \"+pengguna+\" :\")\n",
        "print(\"\")\n",
        "for follower in tweepy.Cursor(api.followers, pengguna).items(25):\n",
        "  print(follower.screen_name)"
      ],
      "execution_count": null,
      "outputs": [
        {
          "output_type": "stream",
          "name": "stdout",
          "text": [
            "Followers of kaji__official :\n",
            "\n",
            "yoshino44\n",
            "d2u7bbun9mwxu5\n",
            "KkMAu5YzPKBPaCY\n",
            "Arwa45225736\n",
            "64ozq3t4el623x\n",
            "8r1t35egjj8pvp\n",
            "yosukiyosuki\n",
            "oh7yxuke45w4cv\n",
            "X7KYTRlB9twUWxx\n",
            "akane_kaito2311\n",
            "DUDAZMI\n",
            "zpsP8izMCxfw\n",
            "I4HSyg4xMZCg8zU\n",
            "npdbevj8h8xuha\n",
            "arjvl3nhza1aq3\n",
            "mq4eB07DMZQ2Qar\n",
            "linann0_0\n",
            "clumsydaysman\n",
            "v2n9tabww84k5b\n",
            "hwcnq6ai9w1ajc\n",
            "b5e9o3iu4bnixt\n",
            "a7gbybwbh94ido\n",
            "Normalm_monst\n",
            "LkyReo\n",
            "kiraaaakunnnn\n"
          ]
        }
      ]
    },
    {
      "cell_type": "code",
      "metadata": {
        "id": "JmKRtwYUoiGz",
        "colab": {
          "base_uri": "https://localhost:8080/"
        },
        "outputId": "d38414db-e19b-467f-b032-3593e61ec45d"
      },
      "source": [
        "print(\"Following of \"+pengguna+\" :\")\n",
        "print(\"\")\n",
        "for friend in tweepy.Cursor(api.friends, pengguna).items(25):\n",
        "  print(friend.screen_name)"
      ],
      "execution_count": null,
      "outputs": [
        {
          "output_type": "stream",
          "name": "stdout",
          "text": [
            "Following of kaji__official :\n",
            "\n"
          ]
        }
      ]
    },
    {
      "cell_type": "code",
      "metadata": {
        "id": "eLgF34Zto8DX",
        "colab": {
          "base_uri": "https://localhost:8080/"
        },
        "outputId": "17b93694-e558-4307-d2e1-9e9ee3e7f837"
      },
      "source": [
        "# Build a crawler that collects the tweets using a set of specified keywords and a geolocation based criteria\n",
        "\n",
        "search = api.search(q='attack on titan', lang='de', count=10)\n",
        "for tweet in search:\n",
        "  print(\"-\",tweet.user.screen_name,\":\", tweet.text)\n",
        "  print(\"\")"
      ],
      "execution_count": null,
      "outputs": [
        {
          "output_type": "stream",
          "name": "stdout",
          "text": [
            "- xodee4 : @hallogibx wenn nich auf netflix guck auf gogoanime da gibs alles eig musst nur ne werbung wegklicken und da würd i… https://t.co/w3VWrZUraa\n",
            "\n",
            "- nadine_s87 : @EggiAnimeKoch Schwer... Bin da gern old school: Pokemon, Sailor Moon oder Digimon... \n",
            "Aber auch Naruto und Attack… https://t.co/Nyvq1clEeu\n",
            "\n",
            "- jeldae : ich war schon vor attack on titan mies melancholisch unterwegs, die serie hat mir richtig den rest gegeben und sie… https://t.co/laQYdYCpG6\n",
            "\n",
            "- shawtynervt : @qeunoi Diese Anime sind nicht für aeinsteiher geeignet Hxh schon aber erste ab folge 3  dennoch empfehle ich dir m… https://t.co/p0iSwikPXe\n",
            "\n",
            "- Yumileinchen : @AlexOfAqua First Anime: Heidi oder Sailor Moon\n",
            "Last Anime: Yashahime\n",
            "Best Anime: Hellsing Ultimate\n",
            "Worst Anime: At… https://t.co/pKQQUbfH7a\n",
            "\n",
            "- Kevkowichy : @ANTEIKU12 Das fragt sich jeder Attack on Titan Fan 😂\n",
            "\n",
            "- ghettoguyv7 : bei gott ich würde alles dafür geben um death note und attack on titan nochmals das erste mal zu sehen\n",
            "\n",
            "- lunaticjasper : das attack on titan opening auf englisch bockt ja übel https://t.co/BxDndkdtBa\n",
            "\n",
            "- shino2084 : Ich weiß echt nicht was ich sagen soll aber Attack On Titan hat bisher die besten Orchester Stücke die ich in einem… https://t.co/usJOqjFpAW\n",
            "\n",
            "- ANTEIKU12 : Wann kommt eigentlich der Trailer zu Attack on Titan? \n",
            "😩\n",
            "\n"
          ]
        }
      ]
    }
  ]
}